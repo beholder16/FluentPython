{
 "cells": [
  {
   "cell_type": "markdown",
   "metadata": {},
   "source": [
    "## Chapter 3. 딕셔너리와 집합\n",
    "### 3.1 일반적인 매핑형\n",
    "표준 라이브러리에서 제공하는 매핑형은 모두 dict를 이용해서 구현하므로 키가 해시 가능해야 한다는 제한을 갖고 있다. "
   ]
  },
  {
   "cell_type": "markdown",
   "metadata": {},
   "source": [
    "NOTE : 해시 가능하다는 말의 의미\n",
    "<p>수명 주기 동안 절대 변하지 않는 해시값을 갖고 있고(__hash__() 메서드가 필요) 다른 객체와 비교할 수 있으면(__eq__() 메서드가 필요), 객체를 해시 가능하다고 한다. 동일하다고 판단되는 객체는 반드시 해시값이 동일해야 한다.</p>\n",
    "<p>원자적 불변형(str, byte, 수치형)은 모두 해시 가능하다. frozenset은 언제나 해시 가능하다. 모든 요소가 해시 가능하도록 정의되어 있기 때문이다. 튜플은 들어 있는 항목들이 모두 해시 가능해야 해시 가능하다.</p>\n",
    "<p>사용자 정의 자료형은 기본적으로 해시 가능하다. 기본적으로 객체의 해시값은 id()를 이용해서 구하므로 모든 객체가 서로 다르기 때문이다. 객체가 자신의 내부 상태를 평가해서 __eq__() 메서드를 직접 구현하는 경우에는 해시값 계산에 사용되는 속성이 모두 불변형일 때만 해시 가능하다.</p>"
   ]
  },
  {
   "cell_type": "code",
   "execution_count": 1,
   "metadata": {},
   "outputs": [
    {
     "name": "stdout",
     "output_type": "stream",
     "text": [
      "True\n",
      "<class 'dict'>\n"
     ]
    }
   ],
   "source": [
    "my_dict = {}\n",
    "import collections\n",
    "print(isinstance(my_dict, collections.abc.Mapping))\n",
    "print(type(my_dict))"
   ]
  },
  {
   "cell_type": "code",
   "execution_count": 2,
   "metadata": {},
   "outputs": [
    {
     "name": "stdout",
     "output_type": "stream",
     "text": [
      "8027212646858338501\n",
      "985328935373711578\n"
     ]
    },
    {
     "ename": "TypeError",
     "evalue": "unhashable type: 'list'",
     "output_type": "error",
     "traceback": [
      "\u001b[1;31m---------------------------------------------------------------------------\u001b[0m",
      "\u001b[1;31mTypeError\u001b[0m                                 Traceback (most recent call last)",
      "\u001b[1;32m<ipython-input-2-4e440e1bff0c>\u001b[0m in \u001b[0;36m<module>\u001b[1;34m\u001b[0m\n\u001b[0;32m      6\u001b[0m \u001b[1;33m\u001b[0m\u001b[0m\n\u001b[0;32m      7\u001b[0m \u001b[0mtl\u001b[0m \u001b[1;33m=\u001b[0m \u001b[1;33m(\u001b[0m\u001b[1;36m1\u001b[0m\u001b[1;33m,\u001b[0m \u001b[1;36m2\u001b[0m\u001b[1;33m,\u001b[0m \u001b[1;33m[\u001b[0m\u001b[1;36m30\u001b[0m\u001b[1;33m,\u001b[0m \u001b[1;36m40\u001b[0m\u001b[1;33m]\u001b[0m\u001b[1;33m)\u001b[0m \u001b[1;31m# 리스트는 해시 불가\u001b[0m\u001b[1;33m\u001b[0m\u001b[1;33m\u001b[0m\u001b[0m\n\u001b[1;32m----> 8\u001b[1;33m \u001b[0mprint\u001b[0m\u001b[1;33m(\u001b[0m\u001b[0mhash\u001b[0m\u001b[1;33m(\u001b[0m\u001b[0mtl\u001b[0m\u001b[1;33m)\u001b[0m\u001b[1;33m)\u001b[0m\u001b[1;33m\u001b[0m\u001b[1;33m\u001b[0m\u001b[0m\n\u001b[0m",
      "\u001b[1;31mTypeError\u001b[0m: unhashable type: 'list'"
     ]
    }
   ],
   "source": [
    "tt = (1, 2, (30, 40))\n",
    "print(hash(tt)) # 튜플은 들어 있는 항목들이 모두 해시 가능해야 해시 가능함\n",
    "\n",
    "tf = (1, 2, frozenset([30, 40])) # frozenset은 언제나 해시 가능함\n",
    "print(hash(tf))\n",
    "\n",
    "tl = (1, 2, [30, 40]) # 리스트는 해시 불가\n",
    "print(hash(tl))"
   ]
  },
  {
   "cell_type": "code",
   "execution_count": 3,
   "metadata": {},
   "outputs": [
    {
     "data": {
      "text/plain": [
       "True"
      ]
     },
     "execution_count": 3,
     "metadata": {},
     "output_type": "execute_result"
    }
   ],
   "source": [
    "## dict을 구현하는 다양한 방법\n",
    "a = dict(one=1, two=2, three=3)\n",
    "b = {'one':1, 'two':2, 'three':3}\n",
    "c = dict(zip(['one', 'two', 'three'], [1, 2, 3]))\n",
    "d = dict([('two', 2), ('one', 1), ('three', 3)])\n",
    "e = dict({'one':1, 'two':2, 'three':3})\n",
    "a == b == c == d == e"
   ]
  },
  {
   "cell_type": "markdown",
   "metadata": {},
   "source": [
    "### 3.2 지능형 딕셔너리"
   ]
  },
  {
   "cell_type": "code",
   "execution_count": 4,
   "metadata": {},
   "outputs": [
    {
     "name": "stdout",
     "output_type": "stream",
     "text": [
      "{'China': 86, 'India': 91, 'United States': 1, 'Indonesia': 62, 'Brazil': 55, 'Pakistan': 92, 'Bangladesh': 880, 'Nigeria': 234, 'Russia': 7, 'Japan': 81}\n",
      "{1: 'UNITED STATES', 62: 'INDONESIA', 55: 'BRAZIL', 7: 'RUSSIA'}\n"
     ]
    }
   ],
   "source": [
    "# 예제 3.1 지능형 딕셔너리 예제\n",
    "DIAL_CODES = [\n",
    "    (86, 'China'),\n",
    "    (91, 'India'),\n",
    "    (1, 'United States'),\n",
    "    (62, 'Indonesia'),\n",
    "    (55, 'Brazil'),\n",
    "    (92, 'Pakistan'),\n",
    "    (880, 'Bangladesh'),\n",
    "    (234, 'Nigeria'),\n",
    "    (7, 'Russia'),\n",
    "    (81, 'Japan')\n",
    "]\n",
    "country_code = {country: code for code, country in DIAL_CODES} # 쌍을 바꾸어서 country는 키, code는 값이 된다.\n",
    "print(country_code)\n",
    "print({code: country.upper() for country, code in country_code.items() if code < 66}) "
   ]
  },
  {
   "cell_type": "markdown",
   "metadata": {},
   "source": [
    "### 3.3 공통적인 매핑 메서드\n",
    "[표 3.1]은 dict와 dict의 변형 중 가장 널리 사용되는 collections.defaultdict와 collections.OrderedDict 클래스가 구현하는 메서드를 보여준다. (p.114 참조)\n",
    "<p>이 중 update(m, [**kargs]) 메서드가 첫 인수 m을 다루는 방식은 <a href=\"https://nesoy.github.io/articles/2018-02/Duck-Typing\">duck typing</a>의 대표적인 사례이다. m이 keys()메서드를 갖고 있는지 확인한 후, 만약 메서드를 갖고 있으면 매핑이라고 간주한다. keys() 메서드가 없으면, update() 메서드는 m의 항목들이 (키, 값) 쌍으로 되어 있다고 간주하고 m을 반복한다. 따라서 매핑은 다른 매핑으로 초기화하거나 (키, 값) 쌍을 생성할 수 있는 반복형 객체로 초기화할 수 있다.</p>\n",
    "\n",
    "<b>표 3.1</b> dict, collections.defaultdic, collections.OrderedDict 매핑형의 메서드\n",
    "\n",
    "|Method |dict |defaultdic |OrderedDict | Description |\n",
    "|-----|-----|-----------|------------|-------------|\n",
    "|d.clear( )|○|○|○|모든 항목을 제거|\n",
    "|d.\\_\\_contains\\_\\_(k)|○|○|○|k in d|\n",
    "|d.copy( )|○|○|○|얕은 복사|\n",
    "|d.\\_\\_copy( )\\_\\_|○|○|○|copy.copy( )|\n",
    "|d.default_factory|×|○|×|빠진 값을 설정하기 위해 \\_\\_missing\\_\\_( ) 메서드에 호출되는 콜러블|\n",
    "|d.\\_\\_del\\_\\_(k)|○|○|○|del d[k]|\n",
    "|d.fromkeys(it, [initial])|○|○|○|선택적인 초기값(기본값은 None)을 받아 반복 가능한 객체의 키들을 이용해서 새로 매핑|\n",
    "|d.get(k)|○|○|○|k키를 가진 항목을 반환한다. 해당 항목이 없으면 default나 None을 반환한다.|\n",
    "|d.\\_\\_getitem\\_\\_(k)|○|○|○|d[k]|\n",
    "|d.items( )|○|○|○|(키, 값) 쌍으로 구성된 항목들의 뷰를 가져온다.|\n",
    "|d.\\_\\_iter\\_\\_( )|○|○|○|키에 대한 반복자를 가져온다.|\n",
    "|d.keys( )|○|○|○|키에 대한 뷰를 가져온다.|\n",
    "|d.\\_\\_len\\_\\_( )|○|○|○|len(d)|\n",
    "|d.\\_\\_missing\\_\\_(k)|×|○|×|\\_\\_getitem( )\\_\\_이 k키를 찾을 수 없을 때 호출된다.|\n",
    "|d.move_to_end(k, [last])|×|×|○|앞이나 뒤에서 k개의 항목을 이동한다.(last의 기본값은 True)|\n",
    "|d.pop(k, [default])|○|○|○|k키 항목을 제거하고 반환한다. 항목이 없으면 default나 None을 반환한다.|\n",
    "|d.popitem( )|○|○|○|처음이나 마지막 (키, 값) 항목을 제거하고 반환한다.|\n",
    "|d.\\_\\_reversed\\_\\_( )|○|○|○|키에 대한 역순 반복자를 가져온다.|\n",
    "|d.setdefault(k, [default])|○|○|○|k in d가 참이면 d[k]를 반환하고 아니면 d[k] = default를 반환|\n",
    "|d.\\_\\_set\\_\\_(k, v)|○|○|○|d[k] = v|\n",
    "|d.update(m, [**kargs])|○|○|○|(키, 값) 쌍의 매핑이나 반복형 객체에서 가져온 항목들로 d를 갱신한다.|\n",
    "|d.values( )|○|○|○|값들에 대한 뷰를 가져온다.|\n",
    "\n",
    "\n",
    "\n",
    "\n",
    "\n",
    "\n",
    "\n",
    "\n",
    "\n",
    "\n",
    "\n"
   ]
  },
  {
   "cell_type": "markdown",
   "metadata": {},
   "source": [
    "### 3.3.1 존재하지 않는 키를 setdefault()로 처리하기\n",
    "존재하지 않는 키를 처리할 때 dict.get()의 안좋은 사례 [예제 3-2]와 좋은 사례 [예제 3-4]를 비교해보자.\n",
    "\n",
    "※ 정규식에 대한 설명 참조 : https://github.com/Gyubin/TIL/blob/master/Python/regular_expression.md"
   ]
  },
  {
   "cell_type": "code",
   "execution_count": 5,
   "metadata": {},
   "outputs": [
    {
     "name": "stdout",
     "output_type": "stream",
     "text": [
      "--search--\n",
      "group:  abcde00\n",
      "start:  3\n",
      "end:  10\n",
      "span:  (3, 10)\n",
      "--match--\n",
      "No match\n",
      "--findall--\n",
      "['abcde00', 'hello']\n",
      "--finditer--\n",
      "group:  abcde00\n",
      "start:  3\n",
      "end:  10\n",
      "span:  (3, 10)\n",
      "group:  hello\n",
      "start:  11\n",
      "end:  16\n",
      "span:  (11, 16)\n"
     ]
    }
   ],
   "source": [
    "# 참고. 정규식 이해하기\n",
    "import re\n",
    "\n",
    "text = '!@#abcde00 hello'\n",
    "REGEX = re.compile('\\w+')\n",
    "\n",
    "result = REGEX.search(text) # search는 문자열 처음이 패턴과 맞지 않더라도 이후에도 맞는게 있는지 찾음.\n",
    "print('--search--')\n",
    "if result:\n",
    "    print('group: ', result.group())\n",
    "    print('start: ', result.start())\n",
    "    print('end: ', result.end())\n",
    "    print('span: ', result.span())\n",
    "else:\n",
    "    print(\"No match\") \n",
    "    \n",
    "result = REGEX.match(text) # match는 전체 문자열에서 처음부터 바로 패턴이랑 일치하는지 찾음. 없는 경우 None을 리턴\n",
    "print('--match--')\n",
    "if result:\n",
    "    print('group: ', result.group())\n",
    "    print('start: ', result.start())\n",
    "    print('end: ', result.end())\n",
    "    print('span: ', result.span())\n",
    "else:\n",
    "    print(\"No match\")\n",
    "\n",
    "find_result = REGEX.findall(text)\n",
    "print('--findall--')\n",
    "print(find_result)\n",
    "\n",
    "iter_result = REGEX.finditer(text)\n",
    "print('--finditer--')\n",
    "if iter_result:\n",
    "    for mo in iter_result:\n",
    "        print('group: ', mo.group())\n",
    "        print('start: ', mo.start())\n",
    "        print('end: ', mo.end())\n",
    "        print('span: ', mo.span())    "
   ]
  },
  {
   "cell_type": "code",
   "execution_count": 6,
   "metadata": {},
   "outputs": [
    {
     "name": "stdout",
     "output_type": "stream",
     "text": [
      "1231V3 [(7, 33)]\n",
      "3 [(8, 29)]\n",
      "32GB [(7, 41)]\n",
      "6 [(8, 31)]\n",
      "A [(9, 28)]\n",
      "AS [(5, 30)]\n",
      "BOOK [(3, 60)]\n",
      "BY [(3, 74)]\n",
      "E3 [(7, 30)]\n",
      "EACH [(3, 94)]\n",
      "EDI [(9, 30)]\n",
      "ENVIRONMENT [(5, 15)]\n",
      "EXECUTION [(5, 5)]\n",
      "FILE [(3, 99)]\n",
      "FILES [(3, 37)]\n",
      "FLEUNT [(3, 46)]\n",
      "FLUENTPYTHON [(1, 3)]\n",
      "FOLLOWS [(5, 33)]\n",
      "FOR [(9, 24)]\n",
      "IN [(3, 43), (3, 114)]\n",
      "INCLUDES [(3, 17)]\n",
      "INTEL [(7, 7)]\n",
      "IS [(5, 27)]\n",
      "JUPYTER [(9, 7)]\n",
      "LI [(7, 4), (7, 51), (8, 4), (8, 34), (9, 4), (9, 43)]\n",
      "LUCIANO [(3, 77)]\n",
      "MINICONDA [(8, 7)]\n",
      "NOTEBOOK [(9, 15)]\n",
      "OL [(6, 2), (10, 3)]\n",
      "ORDER [(3, 117)]\n",
      "PRACTICE [(3, 126)]\n",
      "PRIVATEDLY [(3, 142)]\n",
      "PROCESSOR [(7, 20)]\n",
      "PROGRAM [(9, 34)]\n",
      "PYTHON [(3, 53), (3, 135), (8, 22)]\n",
      "RAM [(7, 46)]\n",
      "RAMALHO [(3, 85)]\n",
      "REPOSITORY [(3, 6)]\n",
      "SAMPLE [(3, 30)]\n",
      "THE [(3, 26), (5, 1)]\n",
      "THIS [(3, 1)]\n",
      "TO [(3, 123)]\n",
      "TYPED [(3, 108)]\n",
      "WAS [(3, 104)]\n",
      "WITH [(8, 17)]\n",
      "WRITTEN [(3, 66)]\n",
      "XEON [(7, 14)]\n"
     ]
    }
   ],
   "source": [
    "# 예제 3-2. dict.get()을 이용해서 인덱스에서 발생한 단어 목록을 가져와서 갱신\n",
    "\"\"\" 단어가 나타나는 위치를 가리키는 인덱스를 만든다. \"\"\"\n",
    "\n",
    "import sys\n",
    "import re\n",
    "\n",
    "WORD_RE = re.compile(r'\\w+') # 찾고자 하는 패턴을 등록. w는 [a-zA-Z]와 동일, +는 반복될 수 있음을 의미\n",
    "index = {}\n",
    "\n",
    "with open('README.md', encoding='utf-8') as fp:\n",
    "    for line_no, line in enumerate(fp, 1): # iterator start index is 1\n",
    "        for match in WORD_RE.finditer(line):\n",
    "            # match object는 다음 코드에서와 같이 group(), start(), end(), span() 네 가지 메소드를 가지고 있다.\n",
    "            # group은 매치된 첫 번째 문자열을 리턴하고, start는 전체 텍스트에서 그 매치된 문자열의 시작 인덱스,\n",
    "            # end는 매치된 문자열의 마지막 인덱스+1을 리턴한다. span은 시작, 끝 인덱스를 튜플로 리턴한다.            \n",
    "            word = match.group().upper()\n",
    "            column_no = match.start() + 1\n",
    "            location = (line_no, column_no)\n",
    "            #Following is the syntax for dict.get() method\n",
    "                #dict.get(key, default = None)\n",
    "                    #Parameters\n",
    "                    #key − This is the Key to be searched in the dictionary.\n",
    "                    #default − This is the Value to be returned in case key does not exist.\n",
    "            occurrences = index.get(word, []) # 없으면 빈 리스트를, 있으면 dict에 저장된 기존 리스트를 가져옴\n",
    "            occurrences.append(location)\n",
    "            index[word] = occurrences # 줄번호와 단어의 시점번호의 조합인 튜플을, 해당 단어를 키로 사용하는 딕셔너리 항목에 추가함\n",
    "            #index.setdefault(word, []).append(location) # 위의 3줄을 한줄로 바꿀 수 있다.\n",
    "\n",
    "# 알파벳순으로 출력한다.\n",
    "for word in sorted(index, key=str.upper):\n",
    "    print(word, index[word])"
   ]
  },
  {
   "cell_type": "code",
   "execution_count": 7,
   "metadata": {},
   "outputs": [
    {
     "name": "stdout",
     "output_type": "stream",
     "text": [
      "1231V3 [(7, 33)]\n",
      "3 [(8, 29)]\n",
      "32GB [(7, 41)]\n",
      "6 [(8, 31)]\n",
      "A [(9, 28)]\n",
      "AS [(5, 30)]\n",
      "BOOK [(3, 60)]\n",
      "BY [(3, 74)]\n",
      "E3 [(7, 30)]\n",
      "EACH [(3, 94)]\n",
      "EDI [(9, 30)]\n",
      "ENVIRONMENT [(5, 15)]\n",
      "EXECUTION [(5, 5)]\n",
      "FILE [(3, 99)]\n",
      "FILES [(3, 37)]\n",
      "FLEUNT [(3, 46)]\n",
      "FLUENTPYTHON [(1, 3)]\n",
      "FOLLOWS [(5, 33)]\n",
      "FOR [(9, 24)]\n",
      "IN [(3, 43), (3, 114)]\n",
      "INCLUDES [(3, 17)]\n",
      "INTEL [(7, 7)]\n",
      "IS [(5, 27)]\n",
      "JUPYTER [(9, 7)]\n",
      "LI [(7, 4), (7, 51), (8, 4), (8, 34), (9, 4), (9, 43)]\n",
      "LUCIANO [(3, 77)]\n",
      "MINICONDA [(8, 7)]\n",
      "NOTEBOOK [(9, 15)]\n",
      "OL [(6, 2), (10, 3)]\n",
      "ORDER [(3, 117)]\n",
      "PRACTICE [(3, 126)]\n",
      "PRIVATEDLY [(3, 142)]\n",
      "PROCESSOR [(7, 20)]\n",
      "PROGRAM [(9, 34)]\n",
      "PYTHON [(3, 53), (3, 135), (8, 22)]\n",
      "RAM [(7, 46)]\n",
      "RAMALHO [(3, 85)]\n",
      "REPOSITORY [(3, 6)]\n",
      "SAMPLE [(3, 30)]\n",
      "THE [(3, 26), (5, 1)]\n",
      "THIS [(3, 1)]\n",
      "TO [(3, 123)]\n",
      "TYPED [(3, 108)]\n",
      "WAS [(3, 104)]\n",
      "WITH [(8, 17)]\n",
      "WRITTEN [(3, 66)]\n",
      "XEON [(7, 14)]\n"
     ]
    }
   ],
   "source": [
    "# 예제 3-4. dict.setdefault()를 사용해서 dict.get() 대신 단 한 줄로 구현\n",
    "# 검색 횟수도 최대 3회에서 1회로 줄일 수 있음\n",
    "\"\"\" 단어가 나타나는 위치를 가리키는 인덱스를 만든다. \"\"\"\n",
    "\n",
    "import sys\n",
    "import re\n",
    "\n",
    "WORD_RE = re.compile(r'\\w+') # 찾고자 하는 패턴을 등록. w는 [a-zA-Z]와 동일, +는 반복될 수 있음을 의미\n",
    "index = {}\n",
    "\n",
    "with open(r'README.md', encoding='utf-8') as fp:\n",
    "    for line_no, line in enumerate(fp, 1): # iterator start index is 1\n",
    "        for match in WORD_RE.finditer(line):\n",
    "            word = match.group().upper()\n",
    "            column_no = match.start() + 1\n",
    "            location = (line_no, column_no)\n",
    "            index.setdefault(word, []).append(location)\n",
    "\n",
    "# 알파벳순으로 출력한다.\n",
    "for word in sorted(index, key=str.upper):\n",
    "    print(word, index[word])"
   ]
  },
  {
   "cell_type": "markdown",
   "metadata": {},
   "source": [
    "### 3.4 융통성 있게 키를 조회하는 매핑\n",
    "검색할 때 키가 존재하는 않는 경우 이를 처리하기 위한 2가지 방법이 있다. 하나는 defaultdict를 사용하거나, 다른 하나는 dict 등의 매핑형을 상속해서 \\_\\_mission\\_\\_( ) 메서드를 추가하는 방법이다."
   ]
  },
  {
   "cell_type": "markdown",
   "metadata": {},
   "source": [
    "#### 3.4.1 defaultdict : 존재하지 않는 키의 또 다른 처리방법\n",
    "[예제 3-5]는 [예제 3-4]의 setdefault를 사용하는 대신 defaultdict을 사용하여 문제를 해결한다. "
   ]
  },
  {
   "cell_type": "code",
   "execution_count": 8,
   "metadata": {},
   "outputs": [
    {
     "name": "stdout",
     "output_type": "stream",
     "text": [
      "1231V3 [(7, 33)]\n",
      "3 [(8, 29)]\n",
      "32GB [(7, 41)]\n",
      "6 [(8, 31)]\n",
      "A [(9, 28)]\n",
      "AS [(5, 30)]\n",
      "BOOK [(3, 60)]\n",
      "BY [(3, 74)]\n",
      "E3 [(7, 30)]\n",
      "EACH [(3, 94)]\n",
      "EDI [(9, 30)]\n",
      "ENVIRONMENT [(5, 15)]\n",
      "EXECUTION [(5, 5)]\n",
      "FILE [(3, 99)]\n",
      "FILES [(3, 37)]\n",
      "FLEUNT [(3, 46)]\n",
      "FLUENTPYTHON [(1, 3)]\n",
      "FOLLOWS [(5, 33)]\n",
      "FOR [(9, 24)]\n",
      "IN [(3, 43), (3, 114)]\n",
      "INCLUDES [(3, 17)]\n",
      "INTEL [(7, 7)]\n",
      "IS [(5, 27)]\n",
      "JUPYTER [(9, 7)]\n",
      "LI [(7, 4), (7, 51), (8, 4), (8, 34), (9, 4), (9, 43)]\n",
      "LUCIANO [(3, 77)]\n",
      "MINICONDA [(8, 7)]\n",
      "NOTEBOOK [(9, 15)]\n",
      "OL [(6, 2), (10, 3)]\n",
      "ORDER [(3, 117)]\n",
      "PRACTICE [(3, 126)]\n",
      "PRIVATEDLY [(3, 142)]\n",
      "PROCESSOR [(7, 20)]\n",
      "PROGRAM [(9, 34)]\n",
      "PYTHON [(3, 53), (3, 135), (8, 22)]\n",
      "RAM [(7, 46)]\n",
      "RAMALHO [(3, 85)]\n",
      "REPOSITORY [(3, 6)]\n",
      "SAMPLE [(3, 30)]\n",
      "THE [(3, 26), (5, 1)]\n",
      "THIS [(3, 1)]\n",
      "TO [(3, 123)]\n",
      "TYPED [(3, 108)]\n",
      "WAS [(3, 104)]\n",
      "WITH [(8, 17)]\n",
      "WRITTEN [(3, 66)]\n",
      "XEON [(7, 14)]\n"
     ]
    }
   ],
   "source": [
    "# [예제 3-5] defaultdict을 사용\n",
    "# 예제 3-4. dict.setdefault()를 사용해서 dict.get() 대신 단 한 줄로 구현\n",
    "# 검색 횟수도 최대 3회에서 1회로 줄일 수 있음\n",
    "\"\"\" 단어가 나타나는 위치를 가리키는 인덱스를 만든다. \"\"\"\n",
    "\n",
    "import sys\n",
    "import re\n",
    "import collections\n",
    "\n",
    "WORD_RE = re.compile(r'\\w+') # 찾고자 하는 패턴을 등록. w는 [a-zA-Z]와 동일, +는 반복될 수 있음을 의미\n",
    "index = collections.defaultdict(list) # 키가 없을 때 호출할 함수를 기본값으로 설정해 줌\n",
    "\n",
    "with open(r'README.md', encoding='utf-8') as fp:\n",
    "    for line_no, line in enumerate(fp, 1): # iterator start index is 1\n",
    "        for match in WORD_RE.finditer(line):\n",
    "            word = match.group().upper()\n",
    "            column_no = match.start() + 1\n",
    "            location = (line_no, column_no)\n",
    "            index[word].append(location) # 키 값이 없더라도 기본값인 list를 호출하여 빈 list를 대입한다.\n",
    "\n",
    "# 알파벳순으로 출력한다.\n",
    "for word in sorted(index, key=str.upper):\n",
    "    print(word, index[word])"
   ]
  },
  {
   "cell_type": "markdown",
   "metadata": {},
   "source": [
    "#### 3.4.2 \\_\\_missing\\_\\_( ) 메서드\n",
    "dict 클래스를 상속하고 \\_\\_missing\\_\\_( )를 정의하면 dict.\\_\\_getitem\\_\\_() 표준 메서드가 키를 발견할 수 없을 때 keyError를 발생시키지 않고 \\_\\_missing\\_\\_( ) 메서드를 호출한다. \n",
    "주의할 점은 \\_\\_missing\\_\\_( )은 d[k] 연산자와 같이 \\_\\_getitem\\_\\_( )을 사용할 때만 호출된다. 따라서 'in' 연산자를 구현하는 get( )이나 \\_\\_contain\\_\\_( )에는 영향을 주지 못한다. [예제 3-7]는 이점을 감안하여 get, \\_\\_contains\\_\\_( )에 d[k] 방식으로 조회하여 \\_\\_missing_\\_( )을 호출하도록 구현하였다."
   ]
  },
  {
   "cell_type": "code",
   "execution_count": 9,
   "metadata": {},
   "outputs": [],
   "source": [
    "# [예제 3-7] 조회할 때 키를 문자열로 변환하는 StrKeyDict0\n",
    "class StrKeyDict0(dict):\n",
    "    \n",
    "    def __missing__(self, key): # 일치하는 키가 없을 때 호출됨\n",
    "        if isinstance(key, str): # 키가 문자형이면 정말 없은 것이므로 오류를 일으킴\n",
    "            raise KeyError(key)\n",
    "        return self[str(key)] # 키가 숫자형일 수 있으므로 문자형으로 변환하고 다시 get() 호출\n",
    "    \n",
    "    def get(self, key, default=None):\n",
    "        try:\n",
    "            return self[key] # get은 self[] 표기법을 이용해서 __getitem__() 메서드에 위임한다. \n",
    "        except KeyError:     # 이는 __missing__()가 동작할 수 있는 기회를 준다.\n",
    "            return default\n",
    "    \n",
    "    def __contains__(self, key): # in 연산자 (기존 Key 집합에 있는지 여부 확인)\n",
    "        return key in self.keys() or str(key) in self.keys()"
   ]
  },
  {
   "cell_type": "code",
   "execution_count": 10,
   "metadata": {},
   "outputs": [
    {
     "name": "stdout",
     "output_type": "stream",
     "text": [
      "two\n",
      "two\n"
     ]
    },
    {
     "ename": "KeyError",
     "evalue": "'1'",
     "output_type": "error",
     "traceback": [
      "\u001b[1;31m---------------------------------------------------------------------------\u001b[0m",
      "\u001b[1;31mKeyError\u001b[0m                                  Traceback (most recent call last)",
      "\u001b[1;32m<ipython-input-10-03839956adfa>\u001b[0m in \u001b[0;36m<module>\u001b[1;34m\u001b[0m\n\u001b[0;32m      5\u001b[0m \u001b[0mprint\u001b[0m\u001b[1;33m(\u001b[0m\u001b[0md\u001b[0m\u001b[1;33m[\u001b[0m\u001b[1;36m2\u001b[0m\u001b[1;33m]\u001b[0m\u001b[1;33m)\u001b[0m\u001b[1;33m\u001b[0m\u001b[1;33m\u001b[0m\u001b[0m\n\u001b[0;32m      6\u001b[0m \u001b[0mprint\u001b[0m\u001b[1;33m(\u001b[0m\u001b[0md\u001b[0m\u001b[1;33m[\u001b[0m\u001b[1;34m'2'\u001b[0m\u001b[1;33m]\u001b[0m\u001b[1;33m)\u001b[0m \u001b[1;31m# 두 결과가 동일함\u001b[0m\u001b[1;33m\u001b[0m\u001b[1;33m\u001b[0m\u001b[0m\n\u001b[1;32m----> 7\u001b[1;33m \u001b[0mprint\u001b[0m\u001b[1;33m(\u001b[0m\u001b[0md\u001b[0m\u001b[1;33m[\u001b[0m\u001b[1;36m1\u001b[0m\u001b[1;33m]\u001b[0m\u001b[1;33m)\u001b[0m \u001b[1;31m# 키 값이 없는 경우 에러 출력\u001b[0m\u001b[1;33m\u001b[0m\u001b[1;33m\u001b[0m\u001b[0m\n\u001b[0m",
      "\u001b[1;32m<ipython-input-9-567b8abee47f>\u001b[0m in \u001b[0;36m__missing__\u001b[1;34m(self, key)\u001b[0m\n\u001b[0;32m      5\u001b[0m         \u001b[1;32mif\u001b[0m \u001b[0misinstance\u001b[0m\u001b[1;33m(\u001b[0m\u001b[0mkey\u001b[0m\u001b[1;33m,\u001b[0m \u001b[0mstr\u001b[0m\u001b[1;33m)\u001b[0m\u001b[1;33m:\u001b[0m \u001b[1;31m# 키가 문자형이면 정말 없은 것이므로 오류를 일으킴\u001b[0m\u001b[1;33m\u001b[0m\u001b[1;33m\u001b[0m\u001b[0m\n\u001b[0;32m      6\u001b[0m             \u001b[1;32mraise\u001b[0m \u001b[0mKeyError\u001b[0m\u001b[1;33m(\u001b[0m\u001b[0mkey\u001b[0m\u001b[1;33m)\u001b[0m\u001b[1;33m\u001b[0m\u001b[1;33m\u001b[0m\u001b[0m\n\u001b[1;32m----> 7\u001b[1;33m         \u001b[1;32mreturn\u001b[0m \u001b[0mself\u001b[0m\u001b[1;33m[\u001b[0m\u001b[0mstr\u001b[0m\u001b[1;33m(\u001b[0m\u001b[0mkey\u001b[0m\u001b[1;33m)\u001b[0m\u001b[1;33m]\u001b[0m \u001b[1;31m# 키가 숫자형일 수 있으므로 문자형으로 변환하고 다시 get() 호출\u001b[0m\u001b[1;33m\u001b[0m\u001b[1;33m\u001b[0m\u001b[0m\n\u001b[0m\u001b[0;32m      8\u001b[0m \u001b[1;33m\u001b[0m\u001b[0m\n\u001b[0;32m      9\u001b[0m     \u001b[1;32mdef\u001b[0m \u001b[0mget\u001b[0m\u001b[1;33m(\u001b[0m\u001b[0mself\u001b[0m\u001b[1;33m,\u001b[0m \u001b[0mkey\u001b[0m\u001b[1;33m,\u001b[0m \u001b[0mdefault\u001b[0m\u001b[1;33m=\u001b[0m\u001b[1;32mNone\u001b[0m\u001b[1;33m)\u001b[0m\u001b[1;33m:\u001b[0m\u001b[1;33m\u001b[0m\u001b[1;33m\u001b[0m\u001b[0m\n",
      "\u001b[1;32m<ipython-input-9-567b8abee47f>\u001b[0m in \u001b[0;36m__missing__\u001b[1;34m(self, key)\u001b[0m\n\u001b[0;32m      4\u001b[0m     \u001b[1;32mdef\u001b[0m \u001b[0m__missing__\u001b[0m\u001b[1;33m(\u001b[0m\u001b[0mself\u001b[0m\u001b[1;33m,\u001b[0m \u001b[0mkey\u001b[0m\u001b[1;33m)\u001b[0m\u001b[1;33m:\u001b[0m \u001b[1;31m# 일치하는 키가 없을 때 호출됨\u001b[0m\u001b[1;33m\u001b[0m\u001b[1;33m\u001b[0m\u001b[0m\n\u001b[0;32m      5\u001b[0m         \u001b[1;32mif\u001b[0m \u001b[0misinstance\u001b[0m\u001b[1;33m(\u001b[0m\u001b[0mkey\u001b[0m\u001b[1;33m,\u001b[0m \u001b[0mstr\u001b[0m\u001b[1;33m)\u001b[0m\u001b[1;33m:\u001b[0m \u001b[1;31m# 키가 문자형이면 정말 없은 것이므로 오류를 일으킴\u001b[0m\u001b[1;33m\u001b[0m\u001b[1;33m\u001b[0m\u001b[0m\n\u001b[1;32m----> 6\u001b[1;33m             \u001b[1;32mraise\u001b[0m \u001b[0mKeyError\u001b[0m\u001b[1;33m(\u001b[0m\u001b[0mkey\u001b[0m\u001b[1;33m)\u001b[0m\u001b[1;33m\u001b[0m\u001b[1;33m\u001b[0m\u001b[0m\n\u001b[0m\u001b[0;32m      7\u001b[0m         \u001b[1;32mreturn\u001b[0m \u001b[0mself\u001b[0m\u001b[1;33m[\u001b[0m\u001b[0mstr\u001b[0m\u001b[1;33m(\u001b[0m\u001b[0mkey\u001b[0m\u001b[1;33m)\u001b[0m\u001b[1;33m]\u001b[0m \u001b[1;31m# 키가 숫자형일 수 있으므로 문자형으로 변환하고 다시 get() 호출\u001b[0m\u001b[1;33m\u001b[0m\u001b[1;33m\u001b[0m\u001b[0m\n\u001b[0;32m      8\u001b[0m \u001b[1;33m\u001b[0m\u001b[0m\n",
      "\u001b[1;31mKeyError\u001b[0m: '1'"
     ]
    }
   ],
   "source": [
    "# [예제 3-6] 비문자열 키를 검색할 때 키를 발견하지 못하면 키를 문자열로 변환하여 재검색하는 StrKeyDict0\n",
    "d = StrKeyDict0([('2', 'two'), ('4', 'four')])\n",
    "\n",
    "# d[key]\n",
    "print(d[2])\n",
    "print(d['2']) # 두 결과가 동일함\n",
    "print(d[1]) # 키 값이 없는 경우 에러 출력"
   ]
  },
  {
   "cell_type": "code",
   "execution_count": 11,
   "metadata": {},
   "outputs": [
    {
     "name": "stdout",
     "output_type": "stream",
     "text": [
      "two\n",
      "None\n",
      "True\n",
      "False\n"
     ]
    }
   ],
   "source": [
    "# d.get(key)\n",
    "print(d.get(2))\n",
    "print(d.get(1)) # Key가 없을 때 default가 None이므로 None 출력\n",
    "\n",
    "# 'in' 연산자\n",
    "print(2 in d)\n",
    "print(1 in d)"
   ]
  },
  {
   "cell_type": "markdown",
   "metadata": {},
   "source": [
    "### 3.5 그 외의 매핑형\n",
    "\n",
    "<p><li><b>collections.OrderedDict</b></li></p>\n",
    "키를 삽입한 순서대로 유지한다. OrderedDict의 popitem()은 최근에 삽입한 항목을 커내지만 my_odict.popitem(last=True) 형태로 호출하면 처음 삽입한 항목을 꺼낸다.\n",
    "<p><li><b>collections.ChainMap</b></li></p>\n",
    "매핑형의 목록을 담고 있으며 한꺼번에 모두 검색할 수 있다. 각 매핑을 차례대로 검색하고, 그 중 하나에서라도 키가 검색되면 성공한다. 다음 예제는 변수를 조회하는 기본 규칙을 표현한 것이다. pylookup = ChainMap(locals(), globals(), vars(builtins))\n",
    "<p><li><b>collections.Counter</b></li></p>\n",
    "모든 키에 정수형 카운터를 갖고 있으며, 기존 키를 갱신하면 카운터가 늘어난다. 보통 해시 가능한 객체(키)나 항 항목이 여러 번 들어갈 수 있는 다중 집합(multiset)에서 객체의 수를 세기 위해 사용한다."
   ]
  },
  {
   "cell_type": "code",
   "execution_count": 12,
   "metadata": {},
   "outputs": [
    {
     "name": "stdout",
     "output_type": "stream",
     "text": [
      "Counter({'abracadabra': 2})\n",
      "Counter({'a': 5, 'abracadabra': 2, 'b': 2, 'r': 2, 'c': 1, 'd': 1})\n"
     ]
    },
    {
     "data": {
      "text/plain": [
       "[('a', 5), ('abracadabra', 2)]"
      ]
     },
     "execution_count": 12,
     "metadata": {},
     "output_type": "execute_result"
    }
   ],
   "source": [
    "ct = collections.Counter([\"abracadabra\",\"abracadabra\"])\n",
    "print(ct)\n",
    "ct.update(\"abracadabra\")\n",
    "print(ct)\n",
    "ct.most_common(2)"
   ]
  },
  {
   "cell_type": "markdown",
   "metadata": {},
   "source": [
    "<p><li><b>collections.UserDict</b></li></p>\n",
    "표준 Dict처럼 작동하는 매핑을 순수 파이썬으로 구현한 클래스로 상속해서 사용하도록 설계되었다. "
   ]
  },
  {
   "cell_type": "markdown",
   "metadata": {},
   "source": [
    "### 3.6 UserDict 상속하기\n",
    "UserDict은 dict을 상속하지 않고 내부에 실제 항목을 담고 있는 data라고 하는 dict 객체를 갖고 있다. 이렇게 구현함으로써 \\_\\_setitem\\_\\_( ) 등의 특수 메서드를 구현할 때 발생하는 원치 않는 재궈적 호출을 피할 수 있으며, \\_\\_contains\\_\\_() 메서드를 간단히 구현할 수 있다. [예제 3-7]과 비교해보자."
   ]
  },
  {
   "cell_type": "code",
   "execution_count": 13,
   "metadata": {},
   "outputs": [],
   "source": [
    "# [예제 3-8] 삽입, 갱신, 조회할 때 비문자열 키를 항상 문제열로 변환하는 StrKeyDict\n",
    "import collections\n",
    "\n",
    "class StrKeyDict(collections.UserDict):\n",
    "    \n",
    "    def __missing__(self, key): # 일치하는 키가 없을 때\n",
    "        if isinstance(key, str):\n",
    "            raise KeyError(key)\n",
    "        return self[str(key)]\n",
    "    \n",
    "    def __contains__(self, key): # in 연산자\n",
    "        return str(key) in self.data # 저장된 키가 모두 str형이므로 self.data에서 바로 조회할 수 있다.\n",
    "    \n",
    "    def __setitem__(self, key, item):\n",
    "        self.data[str(key)] = item # 모든 키를 str형으로 변환하므로, 연산을 self.data에 위임할 때 더 간단히 작성할 수 있다."
   ]
  },
  {
   "cell_type": "markdown",
   "metadata": {},
   "source": [
    "UserDict 클래스는 MutableMapping을 상속하므로 StrKeyDict는 결국 매핑의 모든 기능을 가지게 된다. 특히 다음 메서드는 상당히 유용하다.\n",
    "<p><li><b>MutableMapping.update()</b></li></p>\n",
    "직접 호출하거나 다른 매핑 혹은 (키,값) 쌍의 반복형 및 키워드 인수에서 객체를 로딩하기 위해 __init__()에 의해 사용될 수도 있다.이 메서드는 항목을 추가하기 위해 'self[key] = 값' 구문을 사용하므로 결국 서브클래스에서 구현한 __setitem__()을 호출하게 된다.\n",
    "<p><li><b>Mapping.get()</b></li></p>\n",
    "[예제 3-7]에서는 __getitem__()과 일치하는 결과를 가져오기 위해 get()을 직접 구현했지만, [예제 3-8]에서는 [예제 3-7]의 get()과 동일한 Mapping.get()을 상속받는다. "
   ]
  },
  {
   "cell_type": "markdown",
   "metadata": {},
   "source": [
    "### 3.7 불변 매핑\n",
    "사용자가 실수로 매핑을 변경하지 못하도록 보장하고 싶은 경우를 위해 MappingProxyType이라는 래퍼 클래스를 제공하며 읽기 전용의 mappingproxy 객체를 반환한다."
   ]
  },
  {
   "cell_type": "code",
   "execution_count": 14,
   "metadata": {},
   "outputs": [
    {
     "name": "stdout",
     "output_type": "stream",
     "text": [
      "{1: 'A'}\n",
      "A\n"
     ]
    },
    {
     "ename": "TypeError",
     "evalue": "'mappingproxy' object does not support item assignment",
     "output_type": "error",
     "traceback": [
      "\u001b[1;31m---------------------------------------------------------------------------\u001b[0m",
      "\u001b[1;31mTypeError\u001b[0m                                 Traceback (most recent call last)",
      "\u001b[1;32m<ipython-input-14-6397bed4fca5>\u001b[0m in \u001b[0;36m<module>\u001b[1;34m\u001b[0m\n\u001b[0;32m      4\u001b[0m \u001b[0mprint\u001b[0m\u001b[1;33m(\u001b[0m\u001b[0md_proxy\u001b[0m\u001b[1;33m)\u001b[0m\u001b[1;33m\u001b[0m\u001b[1;33m\u001b[0m\u001b[0m\n\u001b[0;32m      5\u001b[0m \u001b[0mprint\u001b[0m\u001b[1;33m(\u001b[0m\u001b[0md_proxy\u001b[0m\u001b[1;33m[\u001b[0m\u001b[1;36m1\u001b[0m\u001b[1;33m]\u001b[0m\u001b[1;33m)\u001b[0m \u001b[1;31m# 읽기 접근은 가능하지만\u001b[0m\u001b[1;33m\u001b[0m\u001b[1;33m\u001b[0m\u001b[0m\n\u001b[1;32m----> 6\u001b[1;33m \u001b[0md_proxy\u001b[0m\u001b[1;33m[\u001b[0m\u001b[1;36m1\u001b[0m\u001b[1;33m]\u001b[0m \u001b[1;33m=\u001b[0m \u001b[1;34m'X'\u001b[0m  \u001b[1;31m# 쓰기는 불가능\u001b[0m\u001b[1;33m\u001b[0m\u001b[1;33m\u001b[0m\u001b[0m\n\u001b[0m",
      "\u001b[1;31mTypeError\u001b[0m: 'mappingproxy' object does not support item assignment"
     ]
    }
   ],
   "source": [
    "from types import MappingProxyType\n",
    "d = {1: 'A'}\n",
    "d_proxy = MappingProxyType(d)\n",
    "print(d_proxy)\n",
    "print(d_proxy[1]) # 읽기 접근은 가능하지만 \n",
    "d_proxy[1] = 'X'  # 쓰기는 불가능 "
   ]
  },
  {
   "cell_type": "code",
   "execution_count": 15,
   "metadata": {},
   "outputs": [
    {
     "name": "stdout",
     "output_type": "stream",
     "text": [
      "{1: 'A', 2: 'B'}\n"
     ]
    }
   ],
   "source": [
    "d[2] = 'B'\n",
    "print(d_proxy) # 동적인 d_proxy는 d의 변경사항을 바로 반영한다."
   ]
  },
  {
   "cell_type": "markdown",
   "metadata": {},
   "source": [
    "### 3.8 집합 이론\n",
    "집합은 고유한 객체의 모음으로서 기본적으로 중복 항목을 제거한다. 집합 요소는 반드시 해시할 수 있어야 한다. set은 해시 가능하지 않지만 fronzenset은 해시 가능하므로 fronzenset이 set의 요소일 수 있다. 또한 집합형은 중위 연산자를 이용해서 합집합(a | b), 교집합(a & b), 차집합(a - b)의 집합 연산을 구현한다.\n",
    "\n",
    "예시) `found = len(needles & haystack) # 교집합 후 element 수\n",
    "    found = len(set(needles).ittersection(haystack) # 또 다른 방법`"
   ]
  },
  {
   "cell_type": "markdown",
   "metadata": {},
   "source": [
    "#### 3.8.1 집합 리터럴\n",
    "{1}, {1, 2} 등 구문은 수학적 표기법과 동일하지만, 공집합은 set()으로 표기한다. {}는 빈 딕셔너리이므로 주의한다. {1, 2, 3}과 같은 리터럴 집합 구문은 set([1, 2, 3])처럼 생성자를 호출하는 것 보다 더 빠르고 가독성도 좋다. 생성자를 명시적으로 호출하는 경우에는 파이썬이 생성자를 가져오기 위해 집합명을 검색하고, 리스트를 생성하고, 이 리스트를 생성자에 전달해야 하므로 더 느리다. 반면 리터럴 집합 구문은 BUILD_SET이라는 특수 바이트코드를 실행한다. 단, frozenset는 언제나 생성자를 호출해서 생성해야 한다."
   ]
  },
  {
   "cell_type": "code",
   "execution_count": 16,
   "metadata": {},
   "outputs": [
    {
     "name": "stdout",
     "output_type": "stream",
     "text": [
      "---{}---\n",
      "  1           0 LOAD_CONST               0 (1)\n",
      "              2 BUILD_SET                1\n",
      "              4 RETURN_VALUE\n",
      "---set()---\n",
      "  1           0 LOAD_NAME                0 (set)\n",
      "              2 LOAD_CONST               0 (1)\n",
      "              4 BUILD_LIST               1\n",
      "              6 CALL_FUNCTION            1\n",
      "              8 RETURN_VALUE\n",
      "---frozenset()---\n",
      "  1           0 LOAD_NAME                0 (frozenset)\n",
      "              2 LOAD_NAME                1 (range)\n",
      "              4 LOAD_CONST               0 (10)\n",
      "              6 CALL_FUNCTION            1\n",
      "              8 CALL_FUNCTION            1\n",
      "             10 RETURN_VALUE\n",
      "frozenset({0, 1, 2, 3, 4, 5, 6, 7, 8, 9})\n"
     ]
    }
   ],
   "source": [
    "from dis import dis\n",
    "print('---{}---')\n",
    "dis('{1}')\n",
    "print('---set()---')\n",
    "dis('set([1])') # 바이트코드 확인 시 더 길다는 것을 알 수 있음\n",
    "print('---frozenset()---')\n",
    "dis('frozenset(range(10))')\n",
    "print(frozenset(range(10)))"
   ]
  },
  {
   "cell_type": "markdown",
   "metadata": {},
   "source": [
    "#### 3.8.2 지능형 집합"
   ]
  },
  {
   "cell_type": "code",
   "execution_count": 17,
   "metadata": {},
   "outputs": [
    {
     "name": "stdout",
     "output_type": "stream",
     "text": [
      "{'®', '$', '£', '¶', '±', '¤', '¬', '§', 'µ', '©', '+', '=', '>', '¥', '#', '¢', '×', '%', '÷', '<', '°'}\n"
     ]
    }
   ],
   "source": [
    "from unicodedata import name\n",
    "print({chr(i) for i in range(32, 256) if 'SIGN' in name(chr(i), '')}) # 문자명 안에 'SIGN' 단어가 들어 있는 문자들의 집합을 생성\n",
    "                                                                      # 문자명이 없는 값의 에러를 막기 위해 기본값 ''을 설정한다."
   ]
  },
  {
   "cell_type": "markdown",
   "metadata": {},
   "source": [
    "#### 3.8.3 집합 연산\n",
    "[표 3-2] 수학 집합 연산 [표 3-3] 불리언형을 반환하는 비교 연산자와 메서드 참조 (p. 132~p.133)\n",
    "\n",
    "메서드|set|frozenset|설명\n",
    "---|---|---|---\n",
    "s.add(e)|○|×|e 요소를 s에 추가\n",
    "s.clear( )|○|×|s에 들어 있는 요소를 모두 제거한다.\n",
    "s.copy( )|○|○|s의 얕은 복사\n",
    "s.discard(e)|○|×|s안에 e가 있으면 제거한다.\n",
    "s.\\_\\_iter\\_\\_( )|○|○|s의 반복자를 반환한다.\n",
    "s.\\_\\_len\\_\\_( )|○|○|len(s)\n",
    "s.pop()|○|×|s에서 항목 하나를 제거하고 반환한다. s가 공집합이면 keyError가 발생한다.\n",
    "s.remove(e)|○|×|s에서 e항목을 제거한다. s에 e가 없으면 KeyError가 발생한다.\n",
    "\n",
    "\n"
   ]
  },
  {
   "cell_type": "markdown",
   "metadata": {},
   "source": [
    "### 3.9 dict과 set의 내부 구조\n",
    "<li>파이썬 dict, set은 얼마나 효율적인가?</li>\n",
    "<li>왜 순서가 없는가?</li>\n",
    "<li>dict의 키와 set의 항목에 파이썬의 모든 객체를 사용할 수 없는 이유는 무엇인가?</li>\n",
    "<li>dict의 키와 set의 항목의 순서가 왜 삽입 순서에 따라 달라지며, 객체 수명주기 동안 이 순서가 바뀔 수 있는 이유는 무엇인가?</li>\n",
    "<li>딕셔너리와 집합을 반복하는 동안 항목을 추가하면 왜 안 될까?</li>"
   ]
  },
  {
   "cell_type": "markdown",
   "metadata": {},
   "source": [
    "#### 3.9.1 성능 실험\n",
    "haystack에서 in 연산자로 1,000개의 키를 검색하는 데 걸린 시간"
   ]
  },
  {
   "cell_type": "code",
   "execution_count": 23,
   "metadata": {},
   "outputs": [
    {
     "name": "stdout",
     "output_type": "stream",
     "text": [
      "initial sample: 10500000 elements\n",
      "complete sample: 10500000 elements\n",
      "not selected: 500000 samples\n",
      "writing not_selected.arr\n",
      "selected: 10000000 samples\n",
      "writing selected.arr\n"
     ]
    }
   ],
   "source": [
    "\"\"\"\n",
    "컨테이너 성능 테스트에 사용할 데이터 생성\n",
    "\"\"\"\n",
    "\n",
    "import random\n",
    "import array\n",
    "\n",
    "MAX_EXPONENT = 7\n",
    "HAYSTACK_LEN = 10 ** MAX_EXPONENT\n",
    "NEEDLES_LEN = 10 ** (MAX_EXPONENT-1)\n",
    "SAMPLE_LEN = HAYSTACK_LEN + NEEDLES_LEN // 2 # //는 나누기의 몫\n",
    "\n",
    "needles = array.array('d')\n",
    "\n",
    "sample = {1/random.random() for i in range(SAMPLE_LEN)}\n",
    "print('initial sample: %d elements' % len(sample))\n",
    "\n",
    "# 중복된 나수를 제거해서 완전한 샘플을 만든다.\n",
    "while len(sample) < SAMPLE_LEN:\n",
    "    sample.add(1/random.random()) # 집합이므로 중복된 항목은 카운트가 증가되지 않음\n",
    "\n",
    "print('complete sample: %d elements' % len(sample))\n",
    "\n",
    "sample = array.array('d', sample)\n",
    "random.shuffle(sample)\n",
    "\n",
    "not_selected = sample[:NEEDLES_LEN // 2]\n",
    "print('not selected: %d samples' % len(not_selected))\n",
    "print('writing not_selected.arr')\n",
    "with open('not_selected.arr', 'wb') as fp:\n",
    "    not_selected.tofile(fp)\n",
    "\n",
    "selected = sample[NEEDLES_LEN//2:]\n",
    "print('selected: %d samples' % len(selected))\n",
    "print('writing selected.arr')\n",
    "with open('selected.arr', 'wb') as fp:\n",
    "    selected.tofile(fp)"
   ]
  },
  {
   "cell_type": "code",
   "execution_count": 24,
   "metadata": {},
   "outputs": [],
   "source": [
    "# 데이터를 세팅함\n",
    "SETUP = '''\n",
    "import array\n",
    "selected = array.array('d')\n",
    "with open('selected.arr', 'rb') as fp:\n",
    "    selected.fromfile(fp, {size})\n",
    "    \n",
    "if {container_type} is dict:\n",
    "    haystack = dict.fromkeys(selected, 1)\n",
    "else:\n",
    "    haystack = {container_type}(selected)\n",
    "\n",
    "needles = array.array('d')\n",
    "with open('not_selected.arr', 'rb') as fp:\n",
    "    needles.fromfile(fp, 500)           # haystack에 들어있지 않은 500개 item과\n",
    "needles.extend(selected[::{size}//500]) # haystack에 들어있는 500개의 item\n",
    "'''\n",
    "\n",
    "# 테스트할 함수\n",
    "TEST = '''\n",
    "found = 0\n",
    "for n in needles:\n",
    "    if n in haystack:\n",
    "        found += 1\n",
    "'''"
   ]
  },
  {
   "cell_type": "code",
   "execution_count": 37,
   "metadata": {},
   "outputs": [],
   "source": [
    "import sys\n",
    "import timeit\n",
    "import pandas as pd\n",
    "import collections\n",
    "\n",
    "iter_result = collections.defaultdict(list)\n",
    "def test(container_types):\n",
    "    MAX_EXPONENT = 7\n",
    "    for container_type in container_types:\n",
    "        for n in range(3, MAX_EXPONENT+1):\n",
    "            size = 10**n\n",
    "            setup = SETUP.format(container_type=container_type, size=size)\n",
    "            test  = TEST\n",
    "            tt = timeit.repeat(stmt=test, setup=setup, repeat=3, number=1) # number만큼 실행해서 repeat만큼 반복 결과가 나옴\n",
    "                                                                           # setup는 측정과 무관하게 미리 실행해야할 코드\n",
    "                                                                           # stmt는 실제 측정하고자 하는 코드\n",
    "            iter_result[container_type].append(min(tt))"
   ]
  },
  {
   "cell_type": "code",
   "execution_count": 38,
   "metadata": {},
   "outputs": [
    {
     "data": {
      "text/html": [
       "<div>\n",
       "<style scoped>\n",
       "    .dataframe tbody tr th:only-of-type {\n",
       "        vertical-align: middle;\n",
       "    }\n",
       "\n",
       "    .dataframe tbody tr th {\n",
       "        vertical-align: top;\n",
       "    }\n",
       "\n",
       "    .dataframe thead th {\n",
       "        text-align: right;\n",
       "    }\n",
       "</style>\n",
       "<table border=\"1\" class=\"dataframe\">\n",
       "  <thead>\n",
       "    <tr style=\"text-align: right;\">\n",
       "      <th></th>\n",
       "      <th>set</th>\n",
       "      <th>dict</th>\n",
       "      <th>list</th>\n",
       "    </tr>\n",
       "  </thead>\n",
       "  <tbody>\n",
       "    <tr>\n",
       "      <th>0</th>\n",
       "      <td>0.000099</td>\n",
       "      <td>0.000095</td>\n",
       "      <td>0.007499</td>\n",
       "    </tr>\n",
       "    <tr>\n",
       "      <th>1</th>\n",
       "      <td>0.000117</td>\n",
       "      <td>0.000108</td>\n",
       "      <td>0.075517</td>\n",
       "    </tr>\n",
       "    <tr>\n",
       "      <th>2</th>\n",
       "      <td>0.000171</td>\n",
       "      <td>0.000187</td>\n",
       "      <td>0.772797</td>\n",
       "    </tr>\n",
       "    <tr>\n",
       "      <th>3</th>\n",
       "      <td>0.000253</td>\n",
       "      <td>0.000317</td>\n",
       "      <td>8.811472</td>\n",
       "    </tr>\n",
       "    <tr>\n",
       "      <th>4</th>\n",
       "      <td>0.000292</td>\n",
       "      <td>0.000399</td>\n",
       "      <td>77.341754</td>\n",
       "    </tr>\n",
       "  </tbody>\n",
       "</table>\n",
       "</div>"
      ],
      "text/plain": [
       "        set      dict       list\n",
       "0  0.000099  0.000095   0.007499\n",
       "1  0.000117  0.000108   0.075517\n",
       "2  0.000171  0.000187   0.772797\n",
       "3  0.000253  0.000317   8.811472\n",
       "4  0.000292  0.000399  77.341754"
      ]
     },
     "execution_count": 38,
     "metadata": {},
     "output_type": "execute_result"
    }
   ],
   "source": [
    "test(['set', 'dict', 'list'])\n",
    "pd.DataFrame(iter_result)"
   ]
  },
  {
   "cell_type": "markdown",
   "metadata": {},
   "source": [
    "#### 3.9.2 해시의 비트 패턴 비교\n",
    "해시 테이블이 인덱스처럼 효율성을 높이려면 해시값이 가능한 한 인덱스 공간에 공고루 퍼져야 한다. 즉, 이상적으로는 비슷하지만 동일하지 않은 객체들의 해시값은 상당히 달라야 한다. [예제 A-3]은 해시값의 비트 패턴을 비교한 것이다. 1과 1.0의 해시값은 동일하지만, 1.0001, 1.0002, 1.0003의 해시값은 서로 상당히 다르다."
   ]
  },
  {
   "cell_type": "code",
   "execution_count": 40,
   "metadata": {},
   "outputs": [
    {
     "name": "stdout",
     "output_type": "stream",
     "text": [
      "64-bit Python build\n",
      "1        000000000000000000000000000000000000000000000000000000000000001\n",
      "                                                                         !=0\n",
      "1.0      000000000000000000000000000000000000000000000000000000000000001\n",
      "-------------------------------------------------------------------------------\n",
      "1        000000000000000000000000000000000000000000000000000000000000001\n",
      "                        !! !   !! !! !!!   ! !!! ! !!   !!!   !          !=21\n",
      "1.0001   000000000000000110100011011011100010111010110001110001000000001\n",
      "-------------------------------------------------------------------------------\n",
      "1        000000000000000000000000000000000000000000000000000000000000001\n",
      "                       !! !   !! !! !!!   ! !!! ! !!   !!!   !           !=21\n",
      "1.0002   000000000000001101000110110111000101110101100011100010000000001\n",
      "-------------------------------------------------------------------------------\n",
      "1.0002   000000000000001101000110110111000101110101100011100010000000001\n",
      "                      !!!! ! !!  !  ! !! !! !   ! !!! !! !!   !          !=23\n",
      "1.0003   000000000000010011101010010010101000110000010101010011000000001\n",
      "-------------------------------------------------------------------------------\n"
     ]
    }
   ],
   "source": [
    "\"\"\"\n",
    "[예제 A-3] 비슷한 실수형 숫자를 해시했을 때 비트 패턴의 차이 비교\n",
    "\"\"\"\n",
    "\n",
    "import sys\n",
    "MAX_BITS = len(format(sys.maxsize, 'b'))\n",
    "\n",
    "print('%s-bit Python build' % (MAX_BITS + 1))\n",
    "\n",
    "def hash_diff(o1, o2):\n",
    "    h1 = '{:>0{}b}'.format(hash(o1), MAX_BITS)\n",
    "    h2 = '{:>0{}b}'.format(hash(o2), MAX_BITS)\n",
    "    diff = ''.join('!' if b1 != b2 else ' ' for b1, b2 in zip(h1, h2))\n",
    "    count = '!={}'.format(diff.count('!'))\n",
    "    width = max(len(repr(o1)), len(repr(o2)), 8) # 소수점 자리\n",
    "    sep = '-' * (width * 2 + MAX_BITS)\n",
    "    return '{!r:{width}} {}\\n{:{width}} {} {}\\n{!r:{width}} {}\\n{}'.format(\n",
    "        o1, h1, ' ' * width, diff, count, o2, h2, sep, width=width\n",
    "    )\n",
    "\n",
    "print (hash_diff(1, 1.0))\n",
    "print (hash_diff(1, 1.0001))\n",
    "print (hash_diff(1, 1.0002))\n",
    "print (hash_diff(1.0002, 1.0003))"
   ]
  },
  {
   "cell_type": "markdown",
   "metadata": {},
   "source": [
    "#### 3.9.3 dict 작동 방식에 의한 영향 (Set의 요소도 동일함)\n",
    "+ 키 객체는 반드시 해시 가능해야 한다.\n",
    "    - 클래스에서 사용자 정의 \\_\\_eq\\_\\_( ) 메서드를 구현할 때는 \\_\\_hash\\_\\_( ) 메서드도 적절히 구현해야한다. a==b가 참이면 hash(a)==hash(b)도 언제나 참이 되어야 하기 때문에다.\n",
    "+ dict의 메모리 오버헤드가 크다.\n",
    "+ 키 검색이 아주 빠르다.\n",
    "+ 키 순서는 삽입 순서에 따라 달라진다.\n",
    "+ 딕셔너리에 항목을 추가하면 기존 키의 순서가 변경될 수 있다.\n"
   ]
  }
 ],
 "metadata": {
  "kernelspec": {
   "display_name": "Python 3",
   "language": "python",
   "name": "python3"
  },
  "language_info": {
   "codemirror_mode": {
    "name": "ipython",
    "version": 3
   },
   "file_extension": ".py",
   "mimetype": "text/x-python",
   "name": "python",
   "nbconvert_exporter": "python",
   "pygments_lexer": "ipython3",
   "version": "3.7.1"
  }
 },
 "nbformat": 4,
 "nbformat_minor": 2
}
