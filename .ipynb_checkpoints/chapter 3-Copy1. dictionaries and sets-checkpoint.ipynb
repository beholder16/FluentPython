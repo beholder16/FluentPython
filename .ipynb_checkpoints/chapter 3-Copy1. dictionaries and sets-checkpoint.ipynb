{
 "cells": [
  {
   "cell_type": "markdown",
   "metadata": {},
   "source": [
    "## Chapter 3 딕셔너리와 집합\n",
    "### 3.1 일반적인 매핑형"
   ]
  },
  {
   "cell_type": "markdown",
   "metadata": {},
   "source": [
    "1. 공통적으로 사용되는 딕셔너리 메서드\n",
    "2. 없는 키에 대한 특별 처리 \n",
    "3. 표준 라이브러리에서 제공하는 다양한 딕셔너리 클래스\n",
    "4. set과 frozenset형\n",
    "5. 해시 테이블의 작동방식\n",
    "6. 해시 테이블의 의미 (키 자료형 제한, 예측할 수 없는 순서)"
   ]
  },
  {
   "cell_type": "markdown",
   "metadata": {},
   "source": [
    "매핑(mapping)은 키(key) 역할을 하는 데이터와 값(value) 역할을 하는 데이터를 하나씩 짝지어 저장하는 데이터 구조다. \n",
    "<br>키는 저장된 데이터를 구별하고 가리키는 데 쓰이고, 값은 그 키와 연결되어 저장된 데이터가 된다.\n",
    "<br>시퀀스와 비교할 때 가장 큰 차이는 저장된 데이터를 가리킬 때 순서가 아니라 키를 이용한다는 점이다. \n",
    "<br>데이터를 저장할 때 순서보다 좀 더 의미 있는 식별 방법이 필요하다면 매핑을 사용하는 것이 좋다."
   ]
  },
  {
   "cell_type": "markdown",
   "metadata": {},
   "source": [
    "**collections.abc — Abstract Base Classes for Containers**\n",
    "<br>This module provides abstract base classes that can be used to test whether a class provides a particular interface\n",
    "<br>tuple과 dict에 대해 확장된 데이터 구조를 제공. named tuple, ordered dict, counter, default dict, deque\n",
    "https://docs.python.org/3/library/collections.abc.html#collections.abc.Sequence"
   ]
  },
  {
   "cell_type": "markdown",
   "metadata": {},
   "source": [
    "collections.abc 모듈은 dict 및 이와 유사한 자료형의 인터페이스를 정의하기 위해 Mapping 및 MutableMapping 추상 베이스 클래스(ABC)를 제공한다. \n",
    "* (이해) 자료형을 만들기 위해 abstract  base class를 지원한다 정도로 이해"
   ]
  },
  {
   "cell_type": "markdown",
   "metadata": {},
   "source": [
    "특화된 매핑은 여기에 나온 추상 베이스 클래스 대신  dict나 collections.UserDict 클래스를 상속하기도 한다. \n",
    "* (이해) 다른 class 를 상속하는 경우도 있다 정도로 이해"
   ]
  },
  {
   "cell_type": "markdown",
   "metadata": {},
   "source": [
    "추상 베이스 클래스는 매핑이 제공해야 하는 최소한의 인터페이스를 정의하고 문서화하기 위한 것이며 넓은 의미의 매핑을 지원해야 하는 코드에서 isinstance() 테스트를 하기 위한 기준으로 사용\n",
    "* (이해) 넓은 의미의 매핑을 지원해야 하는..? isinstance() 테스트를 한다는 것은 해당 클래스인지 아닌지를 본다는건데.. 잘 모르겠다"
   ]
  },
  {
   "cell_type": "code",
   "execution_count": 75,
   "metadata": {},
   "outputs": [
    {
     "data": {
      "text/plain": [
       "True"
      ]
     },
     "execution_count": 75,
     "metadata": {},
     "output_type": "execute_result"
    }
   ],
   "source": [
    "my_dict = {}\n",
    "import collections\n",
    "isinstance(my_dict, collections.abc.Mapping)"
   ]
  },
  {
   "cell_type": "markdown",
   "metadata": {},
   "source": [
    "**hash 함수**\n",
    "<br> 임의의 길이를 갖는 임의의 데이터에 대해 고정된 길이의 데이터로 맵핑하는 함수, 같은 입력값에 대해 같은 출력이 보장됨"
   ]
  },
  {
   "cell_type": "markdown",
   "metadata": {},
   "source": [
    "**hashable**\n",
    "<br> 수명 주기 동안 결코 변하지 않는 해시값을 갖고 있고 (__hash__() 메서드가 필요)\n",
    "<br> 다른 객체와 비교할 수 있으면 해시 가능 (__eq__() 메서드 필요)\n",
    "* (이해) 해당 클래스에 \\__hash__, \\__eq__ 가 있어야 된다 정도로 이해"
   ]
  },
  {
   "cell_type": "markdown",
   "metadata": {},
   "source": [
    "* (퍼실님 설명) hash란 건 별명이다. 변하면 hash를 보장할 수가 없는 거지"
   ]
  },
  {
   "cell_type": "code",
   "execution_count": 76,
   "metadata": {},
   "outputs": [
    {
     "data": {
      "text/plain": [
       "8027212646858338501"
      ]
     },
     "execution_count": 76,
     "metadata": {},
     "output_type": "execute_result"
    }
   ],
   "source": [
    "tt = (1, 2, (30, 40))\n",
    "hash(tt)"
   ]
  },
  {
   "cell_type": "code",
   "execution_count": 83,
   "metadata": {},
   "outputs": [
    {
     "ename": "TypeError",
     "evalue": "unhashable type: 'list'",
     "output_type": "error",
     "traceback": [
      "\u001b[0;31m---------------------------------------------------------------------------\u001b[0m",
      "\u001b[0;31mTypeError\u001b[0m                                 Traceback (most recent call last)",
      "\u001b[0;32m<ipython-input-83-ab66a9814087>\u001b[0m in \u001b[0;36m<module>\u001b[0;34m\u001b[0m\n\u001b[1;32m      1\u001b[0m \u001b[0mt1\u001b[0m \u001b[0;34m=\u001b[0m \u001b[0;34m(\u001b[0m\u001b[0;36m1\u001b[0m\u001b[0;34m,\u001b[0m \u001b[0;36m2\u001b[0m\u001b[0;34m,\u001b[0m \u001b[0;34m[\u001b[0m\u001b[0;36m30\u001b[0m\u001b[0;34m,\u001b[0m \u001b[0;36m40\u001b[0m\u001b[0;34m]\u001b[0m\u001b[0;34m)\u001b[0m\u001b[0;34m\u001b[0m\u001b[0;34m\u001b[0m\u001b[0m\n\u001b[0;32m----> 2\u001b[0;31m \u001b[0mhash\u001b[0m\u001b[0;34m(\u001b[0m\u001b[0mt1\u001b[0m\u001b[0;34m)\u001b[0m \u001b[0;31m# list 자료구조에는 __hash__ 나 __eq__가 없나봄\u001b[0m\u001b[0;34m\u001b[0m\u001b[0;34m\u001b[0m\u001b[0m\n\u001b[0m",
      "\u001b[0;31mTypeError\u001b[0m: unhashable type: 'list'"
     ]
    }
   ],
   "source": [
    "t1 = (1, 2, [30, 40])\n",
    "hash(t1) # list 자료구조에는 __hash__ 나 __eq__가 없나봄"
   ]
  },
  {
   "cell_type": "code",
   "execution_count": 84,
   "metadata": {},
   "outputs": [
    {
     "data": {
      "text/plain": [
       "985328935373711578"
      ]
     },
     "execution_count": 84,
     "metadata": {},
     "output_type": "execute_result"
    }
   ],
   "source": [
    "tf = (1, 2, frozenset([30, 40])) # frozenset : set은 set인데 불변 set\n",
    "hash(tf)"
   ]
  },
  {
   "cell_type": "markdown",
   "metadata": {},
   "source": []
  },
  {
   "cell_type": "markdown",
   "metadata": {},
   "source": [
    "기본적으로 객체의 해시값은 id()를 이용해서 구하므로 모든 객체가 서로 다르기 때문이다.\n",
    "<br>Return the “identity” of an object. This is an integer which is guaranteed to be unique and constant for this object during its lifetime. Two objects with non-overlapping lifetimes may have the same\n",
    "* (이해) documentation을 봐도 identity가 뭔지 명확하지가 않다. 어떻게 생성되는 interger인 것인가"
   ]
  },
  {
   "cell_type": "markdown",
   "metadata": {},
   "source": [
    "객체가 자신의 내부 상태를 평가해서 __eq__() 메써드를 직접 구현하는 경우에는 해시값 계산에 사용되는 속성이 모두 불변형일 때만 해시가능하다.\n",
    "* (이해) __eq__를 직접 구현하는 경우는 어떤 경우를 말 하는지에 대한 이해가 필요하다"
   ]
  },
  {
   "cell_type": "code",
   "execution_count": 91,
   "metadata": {},
   "outputs": [
    {
     "data": {
      "text/plain": [
       "True"
      ]
     },
     "execution_count": 91,
     "metadata": {},
     "output_type": "execute_result"
    }
   ],
   "source": [
    "a = dict(one = 1, two = 2, three = 3)\n",
    "b = {'one' : 1, 'two' : 2, 'three': 3}\n",
    "c = dict(zip(['one', 'two', 'three'], [1, 2, 3]))\n",
    "d = dict([('two', 2), ('one', 1), ('three', 3)])\n",
    "e = dict({'three' : 3, 'one' : 1, 'two' : 2})\n",
    "a == b == c == d == e"
   ]
  },
  {
   "cell_type": "markdown",
   "metadata": {},
   "source": [
    "* (퍼실님 설명) 같은 딕셔너린데, 표현을 달리하고 있는 것들이 있음. json이 dictionary type임. e번 같은 방식임.\n"
   ]
  },
  {
   "cell_type": "markdown",
   "metadata": {},
   "source": [
    "### 3.2 지능형 딕셔너리"
   ]
  },
  {
   "cell_type": "code",
   "execution_count": 94,
   "metadata": {},
   "outputs": [
    {
     "name": "stdout",
     "output_type": "stream",
     "text": [
      "{'China': 86, 'India': 91, 'United States': 1, 'Indonesia': 62, 'Brazil': 55, 'Pakistan': 92, 'Bangladesh': 880, 'Nigeria': 234, 'Russia': 7, 'Japan': 81}\n",
      "{1: 'UNITED STATES', 62: 'INDONESIA', 55: 'BRAZIL', 7: 'RUSSIA'}\n"
     ]
    }
   ],
   "source": [
    "dial_codes = [\n",
    "    (86, 'China'),\n",
    "    (91, 'India'),\n",
    "    (1, 'United States'),\n",
    "    (62, 'Indonesia'),\n",
    "    (55, 'Brazil'),\n",
    "    (92, 'Pakistan'),\n",
    "    (880, 'Bangladesh'),\n",
    "    (234, 'Nigeria'),\n",
    "    (7, 'Russia'),\n",
    "    (81, 'Japan')\n",
    "]\n",
    "country_code = {country: code for code, country in dial_codes}\n",
    "print(country_code)\n",
    "print({code: country.upper() for country, code in country_code.items() if code < 66})"
   ]
  },
  {
   "cell_type": "markdown",
   "metadata": {},
   "source": [
    "### 3.3 공통적인 매핑 메서드"
   ]
  },
  {
   "cell_type": "markdown",
   "metadata": {},
   "source": [
    "**duck typing**\n",
    "<br>파이썬은 다형성 (polymorphism)을 느슨하게 구현했다. 이것은 클래스에 상관없이 같은 동작을 다른 객체에 적용할 수 있다. "
   ]
  },
  {
   "cell_type": "code",
   "execution_count": 100,
   "metadata": {},
   "outputs": [],
   "source": [
    "class Quote():\n",
    "    def __init__(self, person, words):\n",
    "        self.person = person\n",
    "        self.words = words\n",
    "    \n",
    "    def who(self):\n",
    "        return self.person\n",
    "    \n",
    "    def says(self):\n",
    "        return self.words + '.'\n",
    "\n",
    "class QuestionQuote(Quote): # 상속된 두 클래스에서는 초기화함수를 쓰지 않았다. 그러므로 부모의 __init__() 메써드를 오버라이드하지 않는다. \n",
    "    def says(self):\n",
    "        return self.words + '?'\n",
    "    \n",
    "class ExclamationQuote(Quote): # 파이썬은 자동으로 부모 클래스(슈퍼 클래스)의 Quote의 __init__() 메써드를 호출해서 인스턴스 변수 person과 words를 저장한다. \n",
    "    def says(self):\n",
    "        return self.words + '!' # 그러므로 서브 클래스 두 개에서 생성된 객체의 self.words에 접근할 수 있다.    "
   ]
  },
  {
   "cell_type": "code",
   "execution_count": 103,
   "metadata": {},
   "outputs": [
    {
     "name": "stdout",
     "output_type": "stream",
     "text": [
      "Elmer Fudd says : I'm hunting rabbits.\n",
      "Bugs Bunny says : What's up, doc?\n",
      "Daffy Duck says :  It's rabbit season!\n"
     ]
    }
   ],
   "source": [
    "hunter = Quote('Elmer Fudd', \"I'm hunting rabbits\")\n",
    "print(hunter.who(), 'says :', hunter.says())\n",
    "\n",
    "hunted1 = QuestionQuote('Bugs Bunny', \"What's up, doc\")\n",
    "print(hunted1.who(), 'says :', hunted1.says())\n",
    "\n",
    "hunted2 = ExclamationQuote('Daffy Duck', \"It's rabbit season\")\n",
    "print(hunted2.who(), 'says : ', hunted2.says()) # 세 개의 서로 다른 says() 메써드는 세 클래스에 대해 서로 다른 동작을 제공한다. "
   ]
  },
  {
   "cell_type": "code",
   "execution_count": 107,
   "metadata": {},
   "outputs": [
    {
     "data": {
      "text/plain": [
       "'Babble'"
      ]
     },
     "execution_count": 107,
     "metadata": {},
     "output_type": "execute_result"
    }
   ],
   "source": [
    "class BabblingBrook(): #  더 나아가 파이썬은 who()와 says() 메서드를 갖고 있는 모든 객체에서 이 메서드들을 실행할 수 있게 해준다. \n",
    "    def who(self):\n",
    "        return 'Brook'\n",
    "    \n",
    "    def says(self):\n",
    "        return 'Babble'\n",
    "    \n",
    "brook = BabblingBrook()\n",
    "brook.says()"
   ]
  },
  {
   "cell_type": "code",
   "execution_count": 111,
   "metadata": {},
   "outputs": [],
   "source": [
    "def who_says(obj):\n",
    "    print(obj.who(), 'says', obj.says())"
   ]
  },
  {
   "cell_type": "code",
   "execution_count": 113,
   "metadata": {},
   "outputs": [
    {
     "name": "stdout",
     "output_type": "stream",
     "text": [
      "Elmer Fudd says I'm hunting rabbits.\n",
      "Bugs Bunny says What's up, doc?\n",
      "Daffy Duck says It's rabbit season!\n",
      "Brook says Babble\n"
     ]
    }
   ],
   "source": [
    "who_says(hunter)\n",
    "\n",
    "who_says(hunted1)\n",
    "\n",
    "who_says(hunted2)\n",
    "\n",
    "who_says(brook)"
   ]
  },
  {
   "cell_type": "markdown",
   "metadata": {},
   "source": [
    "d.update(m, [**kargs]) 이 메서드가 m을 다루는 방식은 덕 타이핑의 대표적인 사례다.\n",
    "* (이해) 도대체 왜 이게 덕 타이핑의 대표적인 사례인지 모르겠다.\n",
    "\n",
    "m이 keys() 메서드를 갖고 있는지 확인한 후 만약 메서드를 갖고 있으면 매핑이라고 간주한다.\n",
    "* (이해) dict 등 key가 있는 자료구조인지 확인한 후 라는 뜻?\n",
    "\n",
    "keys() 메서드가 없으면 update() 메서드는 m의 항목들이 (키, 값) 쌍으로 되어 있다고 간주하고 m을 반복한다.\n"
   ]
  },
  {
   "cell_type": "code",
   "execution_count": 126,
   "metadata": {},
   "outputs": [
    {
     "name": "stdout",
     "output_type": "stream",
     "text": [
      "{'a': 1, 'b': 2, 'c': 3, 'd': 4}\n"
     ]
    }
   ],
   "source": [
    "dict_exp = {'a' : 1, 'b' : 2, 'c' : 3}\n",
    "m = {'d' : 4} \n",
    "dict_exp.update(m)\n",
    "print(dict_exp)"
   ]
  },
  {
   "cell_type": "markdown",
   "metadata": {},
   "source": [
    "### 3.3.1 존재하지 않는 키를 setdefault()로 처리하기"
   ]
  },
  {
   "cell_type": "code",
   "execution_count": null,
   "metadata": {},
   "outputs": [],
   "source": []
  },
  {
   "cell_type": "code",
   "execution_count": null,
   "metadata": {},
   "outputs": [],
   "source": []
  },
  {
   "cell_type": "code",
   "execution_count": null,
   "metadata": {},
   "outputs": [],
   "source": []
  },
  {
   "cell_type": "markdown",
   "metadata": {},
   "source": [
    "* 파이썬의 변수 조회 순서 local > globas > builtin"
   ]
  },
  {
   "cell_type": "markdown",
   "metadata": {},
   "source": [
    "* bulitin은 c로 개발되어 있어서 상속이 되지 않는다. "
   ]
  },
  {
   "cell_type": "code",
   "execution_count": null,
   "metadata": {},
   "outputs": [],
   "source": []
  },
  {
   "cell_type": "code",
   "execution_count": 8,
   "metadata": {},
   "outputs": [],
   "source": [
    "class Duck():\n",
    "    def __init__(self, input_name):\n",
    "        self.hidden_name = input_name\n",
    "    def get_name(self):\n",
    "        print('inside the getter')  # 이 문장이 프린트되면서\n",
    "        return self.hidden_name # 아마 여기서는 입력된 input 값이 나오겠지\n",
    "    def set_name(self, input_name):\n",
    "        print('inside the setter')\n",
    "        self.hidden_name = input_name\n",
    "    name = property(get_name, set_name)"
   ]
  },
  {
   "cell_type": "code",
   "execution_count": 12,
   "metadata": {},
   "outputs": [
    {
     "name": "stdout",
     "output_type": "stream",
     "text": [
      "inside the getter\n"
     ]
    },
    {
     "data": {
      "text/plain": [
       "'hoit'"
      ]
     },
     "execution_count": 12,
     "metadata": {},
     "output_type": "execute_result"
    }
   ],
   "source": [
    "bird = Duck('hoit')\n",
    "bird.get_name()\n"
   ]
  },
  {
   "cell_type": "code",
   "execution_count": 15,
   "metadata": {},
   "outputs": [
    {
     "name": "stdout",
     "output_type": "stream",
     "text": [
      "inside the setter\n",
      "inside the getter\n"
     ]
    },
    {
     "data": {
      "text/plain": [
       "'hoiiit'"
      ]
     },
     "execution_count": 15,
     "metadata": {},
     "output_type": "execute_result"
    }
   ],
   "source": [
    "bird.set_name('hoiiit')\n",
    "bird.get_name()"
   ]
  },
  {
   "cell_type": "code",
   "execution_count": 20,
   "metadata": {},
   "outputs": [
    {
     "name": "stdout",
     "output_type": "stream",
     "text": [
      "inside the getter\n"
     ]
    },
    {
     "data": {
      "text/plain": [
       "'hoiiit'"
      ]
     },
     "execution_count": 20,
     "metadata": {},
     "output_type": "execute_result"
    }
   ],
   "source": [
    "bird.name"
   ]
  },
  {
   "cell_type": "code",
   "execution_count": 22,
   "metadata": {},
   "outputs": [
    {
     "name": "stdout",
     "output_type": "stream",
     "text": [
      "inside the setter\n",
      "inside the getter\n"
     ]
    },
    {
     "data": {
      "text/plain": [
       "'hoiiiiiiiit'"
      ]
     },
     "execution_count": 22,
     "metadata": {},
     "output_type": "execute_result"
    }
   ],
   "source": [
    "bird.name = 'hoiiiiiiiit'\n",
    "bird.name"
   ]
  },
  {
   "cell_type": "code",
   "execution_count": 72,
   "metadata": {},
   "outputs": [],
   "source": [
    "class Circle():\n",
    "    def __init__(self, radius):\n",
    "        self.radius = radius\n",
    "\n",
    "    def diameter(self):\n",
    "        return 2 * self.radius\n",
    "    \n",
    "    def __str__(self):\n",
    "        return str(self)\n",
    "    \n",
    "    def __len__(self):\n",
    "        i = 0\n",
    "        for i in [1,2,3]:\n",
    "            i += 1\n",
    "        return i\n",
    "    \n",
    "    def __eq__(self, k):\n",
    "        return self.radius == k.radius"
   ]
  },
  {
   "cell_type": "code",
   "execution_count": 73,
   "metadata": {},
   "outputs": [
    {
     "data": {
      "text/plain": [
       "True"
      ]
     },
     "execution_count": 73,
     "metadata": {},
     "output_type": "execute_result"
    }
   ],
   "source": [
    "test1 = Circle(1)\n",
    "test2 = Circle(1)\n",
    "test1 == test2"
   ]
  },
  {
   "cell_type": "code",
   "execution_count": 44,
   "metadata": {},
   "outputs": [
    {
     "data": {
      "text/plain": [
       "False"
      ]
     },
     "execution_count": 44,
     "metadata": {},
     "output_type": "execute_result"
    }
   ],
   "source": [
    "test1 == test2"
   ]
  },
  {
   "cell_type": "code",
   "execution_count": null,
   "metadata": {},
   "outputs": [],
   "source": []
  }
 ],
 "metadata": {
  "kernelspec": {
   "display_name": "Python 3",
   "language": "python",
   "name": "python3"
  },
  "language_info": {
   "codemirror_mode": {
    "name": "ipython",
    "version": 3
   },
   "file_extension": ".py",
   "mimetype": "text/x-python",
   "name": "python",
   "nbconvert_exporter": "python",
   "pygments_lexer": "ipython3",
   "version": "3.7.1"
  }
 },
 "nbformat": 4,
 "nbformat_minor": 2
}
